# Crypto Correlations:
### Using a variety of Cryptocurrencies as leading and lagging indicators to predict Bitcoin price movement

##### Theo Faucher, Ian Rosen, Harrison Sneddon

---
## Purpose:
    - The purpose of this repository is to figure out if the top 20 coins from August 2017 - April 2022 are lagging or foward indicators to BTC
    - By analyzing the correlations between Bitcoin's returns up to 10 days before and after each date in the sample, we were able to arrive at our conclusion.
---

## Full Submission & Analysis Notebook
[Full Final Analysis Reports](./final_report)

---
## Presentation Materials
[https://docs.google.com/presentation/d/1Y2lZmFnrXkxtTBoyG1Yw1ZAdLG0rSNqfwv7ZiYnS874/edit?usp=sharing]

---
## Individual Submission Components
1. [Download Cryptocurrency Data](./download_cryptocurrency_data.ipynb)
1. [Exploratory Data Analysis](./EDA_summary)
1. [Full Analysis Report](/Final_Component/Final_Report.ipynb)
