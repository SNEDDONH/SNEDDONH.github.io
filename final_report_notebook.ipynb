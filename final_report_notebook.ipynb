{
 "cells": [
  {
   "cell_type": "markdown",
   "id": "a565e8d9-7091-466e-be71-3aebb063bb17",
   "metadata": {},
   "source": [
    "# FINAL REPORT GUIDE\n",
    "##### Harrison Sneddon, Theo Faucher, Ian Rosen"
   ]
  },
  {
   "cell_type": "markdown",
   "id": "22d1a984-cadb-49d0-b798-7064773d9c48",
   "metadata": {},
   "source": [
    "## Initial Proposal"
   ]
  },
  {
   "cell_type": "markdown",
   "id": "ff03bbff-2773-406f-a6ca-1d741aa1bb17",
   "metadata": {},
   "source": [
    "See 'Proposal/proposal.med'"
   ]
  },
  {
   "cell_type": "markdown",
   "id": "dcdc16b9-9468-47d9-96ec-7e420fb9fd53",
   "metadata": {},
   "source": [
    "## Data scraping and collection\n",
    "See 'data_collection.ipynb'\n",
    "\n",
    "*Must save 'clean.py' before running\n",
    "*Must save 'transformDate.py' before running\n",
    "\n",
    "### **It takes a long ass time"
   ]
  },
  {
   "cell_type": "markdown",
   "id": "fcd85eb9-5766-400a-96b2-4853a9924e5a",
   "metadata": {},
   "source": [
    "## Main working file\n",
    "See 'Status Report.ipynb'\n",
    "\n",
    "- Contains bulk of data analysis and final results \n"
   ]
  },
  {
   "cell_type": "markdown",
   "id": "28e6367f-67ab-4162-bc17-125498927906",
   "metadata": {},
   "source": [
    "***********************************************************************"
   ]
  },
  {
   "cell_type": "markdown",
   "id": "6cbfe97b-2c90-4ebd-9cc1-84ae7ce2a2bd",
   "metadata": {},
   "source": [
    "## RESULTS\n",
    "##### Graphs referenced are in main working file "
   ]
  },
  {
   "cell_type": "markdown",
   "id": "74c98ae4-d01c-4c0e-9514-96ae0dddf3c7",
   "metadata": {},
   "source": [
    "Main Findings:\n",
    "- The cryptocurrency market shows no clear signs of indicator lag\n",
    "- Highest correlation trading period across the board is BTC(t=0)\n",
    "- Indicates market wide movements \n",
    "- Several explanations for these results exist\n",
    "    - There is no lead/lag and the movement of coins is 'random'\n",
    "    - Any noticeable indicators would have been priced away\n",
    "    - There are indicators, but not being registered in our data set due to granularity constraints \n",
    "    - There are indicators in our data, but we failed to find them\n",
    "- The highest correlation coins: Those directly tracking to BTC (Wrapped BTC)\n",
    "- The lowest correlation coins: Stable coins \n",
    "    \n",
    "Further Potential Projects \n",
    "- Expand data set \n",
    "- Increase granularity (Coinmarketcap has a 1hr % change application)"
   ]
  },
  {
   "cell_type": "markdown",
   "id": "d2fb3f04-df1f-442d-8782-f7374f762654",
   "metadata": {},
   "source": [
    "## Presentation Materials\n",
    "link to presentation slides (w/changed name)\n"
   ]
  },
  {
   "cell_type": "code",
   "execution_count": null,
   "id": "13cdf74c-1403-4254-9e3d-56028e6c6fe8",
   "metadata": {},
   "outputs": [],
   "source": []
  }
 ],
 "metadata": {
  "kernelspec": {
   "display_name": "Python 3 (ipykernel)",
   "language": "python",
   "name": "python3"
  },
  "language_info": {
   "codemirror_mode": {
    "name": "ipython",
    "version": 3
   },
   "file_extension": ".py",
   "mimetype": "text/x-python",
   "name": "python",
   "nbconvert_exporter": "python",
   "pygments_lexer": "ipython3",
   "version": "3.7.11"
  }
 },
 "nbformat": 4,
 "nbformat_minor": 5
}
